{
  "nbformat": 4,
  "nbformat_minor": 0,
  "metadata": {
    "colab": {
      "provenance": [],
      "authorship_tag": "ABX9TyMDXGp65aWjduFe9/jhiw2b",
      "include_colab_link": true
    },
    "kernelspec": {
      "name": "python3",
      "display_name": "Python 3"
    },
    "language_info": {
      "name": "python"
    }
  },
  "cells": [
    {
      "cell_type": "markdown",
      "metadata": {
        "id": "view-in-github",
        "colab_type": "text"
      },
      "source": [
        "<a href=\"https://colab.research.google.com/github/statlib/learn-polars/blob/main/notebooks/polars-expressions.ipynb\" target=\"_parent\"><img src=\"https://colab.research.google.com/assets/colab-badge.svg\" alt=\"Open In Colab\"/></a>"
      ]
    },
    {
      "cell_type": "code",
      "source": [
        "!pip install --upgrade faker hypothesis polars"
      ],
      "metadata": {
        "colab": {
          "base_uri": "https://localhost:8080/"
        },
        "id": "Sjl-tOWXwScK",
        "outputId": "45f3a93b-0546-409e-ad53-6b1eae1cd53b"
      },
      "execution_count": 1,
      "outputs": [
        {
          "output_type": "stream",
          "name": "stdout",
          "text": [
            "Requirement already satisfied: faker in /usr/local/lib/python3.10/dist-packages (19.13.0)\n",
            "Requirement already satisfied: hypothesis in /usr/local/lib/python3.10/dist-packages (6.88.1)\n",
            "Requirement already satisfied: polars in /usr/local/lib/python3.10/dist-packages (0.19.12)\n",
            "Requirement already satisfied: python-dateutil>=2.4 in /usr/local/lib/python3.10/dist-packages (from faker) (2.8.2)\n",
            "Requirement already satisfied: attrs>=19.2.0 in /usr/local/lib/python3.10/dist-packages (from hypothesis) (23.1.0)\n",
            "Requirement already satisfied: sortedcontainers<3.0.0,>=2.1.0 in /usr/local/lib/python3.10/dist-packages (from hypothesis) (2.4.0)\n",
            "Requirement already satisfied: exceptiongroup>=1.0.0 in /usr/local/lib/python3.10/dist-packages (from hypothesis) (1.1.3)\n",
            "Requirement already satisfied: six>=1.5 in /usr/local/lib/python3.10/dist-packages (from python-dateutil>=2.4->faker) (1.16.0)\n"
          ]
        }
      ]
    },
    {
      "cell_type": "code",
      "execution_count": 2,
      "metadata": {
        "id": "nMN929HwvJPz"
      },
      "outputs": [],
      "source": [
        "import numpy as np\n",
        "import polars as pl\n",
        "from datetime import datetime\n",
        "from faker import Faker\n",
        "\n",
        "def sim_fin_data(n=1000):\n",
        "    assert n > 0, \"Number of companies must be greater than 0.\"\n",
        "\n",
        "    fake = Faker()\n",
        "    rng = np.random.default_rng(seed=123)  # Initialize random number generator\n",
        "    r = range(n)\n",
        "\n",
        "    try:\n",
        "        # Generate company IDs and names\n",
        "        company_ids = [fake.unique.uuid4() for _ in r]\n",
        "        company_names = [fake.company() for _ in r]\n",
        "        filing_dates = [\n",
        "            fake.date_between(start_date='-1y', end_date='today')\n",
        "            for _ in range(n)\n",
        "        ]\n",
        "        # Generate balance sheet data using lognormal distribution\n",
        "        total_assets = rng.lognormal(mean=13, sigma=1.0, size=n)\n",
        "        total_liabilities = np.clip(rng.lognormal(mean=12, sigma=1.0, size=n), 0, total_assets * 0.95)\n",
        "        total_equity = total_assets - total_liabilities\n",
        "\n",
        "        # Generate income statement data using lognormal and normal distributions\n",
        "        revenue = rng.lognormal(mean=12, sigma=1.0, size=n)\n",
        "        cogs = revenue * np.clip(rng.normal(loc=0.6, scale=0.1, size=n), 0.1, 0.9)\n",
        "        operating_expenses = revenue * np.clip(rng.normal(loc=0.2, scale=0.05, size=n), 0.05, 0.4)\n",
        "        interest_expense = total_liabilities * rng.normal(loc=0.05, scale=0.01, size=n)\n",
        "        tax_expense = revenue * np.clip(rng.normal(loc=0.2, scale=0.02, size=n), 0.1, 0.3)\n",
        "        net_income = revenue - cogs - operating_expenses - interest_expense - tax_expense\n",
        "\n",
        "        # Create a Polars DataFrame\n",
        "        df = pl.DataFrame({\n",
        "            'company_id': company_ids,\n",
        "            'company_name': company_names,\n",
        "            'filing_date': filing_dates,\n",
        "            'total_assets': total_assets,\n",
        "            'total_liabilities': total_liabilities,\n",
        "            'total_equity': total_equity,\n",
        "            'revenue': revenue,\n",
        "            'cost_of_goods_sold': cogs,\n",
        "            'operating_expenses': operating_expenses,\n",
        "            'interest_expense': interest_expense,\n",
        "            'tax_expense': tax_expense,\n",
        "            'net_income': net_income\n",
        "        })\n",
        "\n",
        "    except Exception as e:\n",
        "         return print(f\"An error occurred while generating dummy data: {e}\")\n",
        "\n",
        "    return df\n"
      ]
    },
    {
      "cell_type": "code",
      "source": [
        "df = sim_fin_data()"
      ],
      "metadata": {
        "id": "kmdNJenxwSCF"
      },
      "execution_count": 3,
      "outputs": []
    },
    {
      "cell_type": "code",
      "source": [
        "df.sample(5)"
      ],
      "metadata": {
        "colab": {
          "base_uri": "https://localhost:8080/",
          "height": 361
        },
        "id": "ZSz61Q7wzlCm",
        "outputId": "76aed940-bec3-44a3-e1af-bb310f53bedf"
      },
      "execution_count": 4,
      "outputs": [
        {
          "output_type": "execute_result",
          "data": {
            "text/plain": [
              "shape: (5, 12)\n",
              "┌───────────┬───────────┬───────────┬───────────┬───┬───────────┬───────────┬───────────┬──────────┐\n",
              "│ company_i ┆ company_n ┆ filing_da ┆ total_ass ┆ … ┆ operating ┆ interest_ ┆ tax_expen ┆ net_inco │\n",
              "│ d         ┆ ame       ┆ te        ┆ ets       ┆   ┆ _expenses ┆ expense   ┆ se        ┆ me       │\n",
              "│ ---       ┆ ---       ┆ ---       ┆ ---       ┆   ┆ ---       ┆ ---       ┆ ---       ┆ ---      │\n",
              "│ str       ┆ str       ┆ date      ┆ f64       ┆   ┆ f64       ┆ f64       ┆ f64       ┆ f64      │\n",
              "╞═══════════╪═══════════╪═══════════╪═══════════╪═══╪═══════════╪═══════════╪═══════════╪══════════╡\n",
              "│ 80b30710- ┆ Harris-Wi ┆ 2022-12-2 ┆ 99866.722 ┆ … ┆ 25326.398 ┆ 680.57042 ┆ 22425.606 ┆ 14481.78 │\n",
              "│ 516c-45a3 ┆ lliams    ┆ 7         ┆ 323       ┆   ┆ 281       ┆ 4         ┆ 777       ┆ 262      │\n",
              "│ -8b6a-083 ┆           ┆           ┆           ┆   ┆           ┆           ┆           ┆          │\n",
              "│ dcac9…    ┆           ┆           ┆           ┆   ┆           ┆           ┆           ┆          │\n",
              "│ 3992b65d- ┆ Bridges,  ┆ 2022-12-2 ┆ 450361.75 ┆ … ┆ 66231.059 ┆ 7033.8235 ┆ 73504.155 ┆ 15339.74 │\n",
              "│ 525e-4461 ┆ Wright    ┆ 6         ┆ 2091      ┆   ┆ 329       ┆ 97        ┆ 893       ┆ 7321     │\n",
              "│ -bee2-06e ┆ and       ┆           ┆           ┆   ┆           ┆           ┆           ┆          │\n",
              "│ a740b…    ┆ Richard   ┆           ┆           ┆   ┆           ┆           ┆           ┆          │\n",
              "│ e7d7f13e- ┆ Rogers-Le ┆ 2023-09-0 ┆ 54060.412 ┆ … ┆ 29643.919 ┆ 1824.7000 ┆ 62797.723 ┆ 31126.79 │\n",
              "│ 1aad-4344 ┆ e         ┆ 8         ┆ 108       ┆   ┆ 646       ┆ 29        ┆ 28        ┆ 3433     │\n",
              "│ -8282-a6a ┆           ┆           ┆           ┆   ┆           ┆           ┆           ┆          │\n",
              "│ 5217b…    ┆           ┆           ┆           ┆   ┆           ┆           ┆           ┆          │\n",
              "│ 1411edef- ┆ Lopez-One ┆ 2023-07-0 ┆ 375484.93 ┆ … ┆ 40091.299 ┆ 17874.621 ┆ 41732.720 ┆ -37511.2 │\n",
              "│ 5017-4991 ┆ al        ┆ 9         ┆ 9273      ┆   ┆ 143       ┆ 818       ┆ 382       ┆ 1966     │\n",
              "│ -a45e-be7 ┆           ┆           ┆           ┆   ┆           ┆           ┆           ┆          │\n",
              "│ 6ec7c…    ┆           ┆           ┆           ┆   ┆           ┆           ┆           ┆          │\n",
              "│ 43e36a0a- ┆ Douglas,  ┆ 2023-01-0 ┆ 259164.14 ┆ … ┆ 68886.788 ┆ 8789.7762 ┆ 48414.422 ┆ 7181.976 │\n",
              "│ 8022-4070 ┆ Perez and ┆ 1         ┆ 5499      ┆   ┆ 284       ┆ 8         ┆ 469       ┆ 41       │\n",
              "│ -8bed-c3d ┆ Smith     ┆           ┆           ┆   ┆           ┆           ┆           ┆          │\n",
              "│ ad07b…    ┆           ┆           ┆           ┆   ┆           ┆           ┆           ┆          │\n",
              "└───────────┴───────────┴───────────┴───────────┴───┴───────────┴───────────┴───────────┴──────────┘"
            ],
            "text/html": [
              "<div><style>\n",
              ".dataframe > thead > tr > th,\n",
              ".dataframe > tbody > tr > td {\n",
              "  text-align: right;\n",
              "  white-space: pre-wrap;\n",
              "}\n",
              "</style>\n",
              "<small>shape: (5, 12)</small><table border=\"1\" class=\"dataframe\"><thead><tr><th>company_id</th><th>company_name</th><th>filing_date</th><th>total_assets</th><th>total_liabilities</th><th>total_equity</th><th>revenue</th><th>cost_of_goods_sold</th><th>operating_expenses</th><th>interest_expense</th><th>tax_expense</th><th>net_income</th></tr><tr><td>str</td><td>str</td><td>date</td><td>f64</td><td>f64</td><td>f64</td><td>f64</td><td>f64</td><td>f64</td><td>f64</td><td>f64</td><td>f64</td></tr></thead><tbody><tr><td>&quot;80b30710-516c-…</td><td>&quot;Harris-William…</td><td>2022-12-27</td><td>99866.722323</td><td>15891.606352</td><td>83975.115972</td><td>105251.91282</td><td>42337.554718</td><td>25326.398281</td><td>680.570424</td><td>22425.606777</td><td>14481.78262</td></tr><tr><td>&quot;3992b65d-525e-…</td><td>&quot;Bridges, Wrigh…</td><td>2022-12-26</td><td>450361.752091</td><td>129083.945462</td><td>321277.806629</td><td>336090.680403</td><td>173981.894263</td><td>66231.059329</td><td>7033.823597</td><td>73504.155893</td><td>15339.747321</td></tr><tr><td>&quot;e7d7f13e-1aad-…</td><td>&quot;Rogers-Lee&quot;</td><td>2023-09-08</td><td>54060.412108</td><td>51357.391503</td><td>2703.020605</td><td>269475.195198</td><td>144082.05881</td><td>29643.919646</td><td>1824.700029</td><td>62797.72328</td><td>31126.793433</td></tr><tr><td>&quot;1411edef-5017-…</td><td>&quot;Lopez-Oneal&quot;</td><td>2023-07-09</td><td>375484.939273</td><td>326289.193938</td><td>49195.745335</td><td>223115.909017</td><td>160928.487334</td><td>40091.299143</td><td>17874.621818</td><td>41732.720382</td><td>-37511.21966</td></tr><tr><td>&quot;43e36a0a-8022-…</td><td>&quot;Douglas, Perez…</td><td>2023-01-01</td><td>259164.145499</td><td>179822.221035</td><td>79341.924464</td><td>276378.706164</td><td>143105.742721</td><td>68886.788284</td><td>8789.77628</td><td>48414.422469</td><td>7181.97641</td></tr></tbody></table></div>"
            ]
          },
          "metadata": {},
          "execution_count": 4
        }
      ]
    },
    {
      "cell_type": "code",
      "source": [
        "df.filter(\n",
        "    pl.col(\"filing_date\").is_between(\n",
        "        datetime(2023, 11, 1),\n",
        "        datetime(2023, 11, 5)\n",
        "    )\n",
        ")"
      ],
      "metadata": {
        "colab": {
          "base_uri": "https://localhost:8080/",
          "height": 800
        },
        "id": "ITSwK7rEdZVk",
        "outputId": "ce6cfd84-bb4d-478f-98d7-24cd475c6e07"
      },
      "execution_count": 5,
      "outputs": [
        {
          "output_type": "execute_result",
          "data": {
            "text/plain": [
              "shape: (14, 12)\n",
              "┌───────────┬───────────┬───────────┬───────────┬───┬───────────┬───────────┬───────────┬──────────┐\n",
              "│ company_i ┆ company_n ┆ filing_da ┆ total_ass ┆ … ┆ operating ┆ interest_ ┆ tax_expen ┆ net_inco │\n",
              "│ d         ┆ ame       ┆ te        ┆ ets       ┆   ┆ _expenses ┆ expense   ┆ se        ┆ me       │\n",
              "│ ---       ┆ ---       ┆ ---       ┆ ---       ┆   ┆ ---       ┆ ---       ┆ ---       ┆ ---      │\n",
              "│ str       ┆ str       ┆ date      ┆ f64       ┆   ┆ f64       ┆ f64       ┆ f64       ┆ f64      │\n",
              "╞═══════════╪═══════════╪═══════════╪═══════════╪═══╪═══════════╪═══════════╪═══════════╪══════════╡\n",
              "│ d88742db- ┆ Nguyen,   ┆ 2023-11-0 ┆ 332605.78 ┆ … ┆ 19255.788 ┆ 4148.0161 ┆ 18569.156 ┆ -11782.9 │\n",
              "│ 6e76-4bda ┆ Landry    ┆ 2         ┆ 1684      ┆   ┆ 092       ┆ 95        ┆ 819       ┆ 25113    │\n",
              "│ -9fda-623 ┆ and       ┆           ┆           ┆   ┆           ┆           ┆           ┆          │\n",
              "│ dd001…    ┆ Norman    ┆           ┆           ┆   ┆           ┆           ┆           ┆          │\n",
              "│ 9ed4258d- ┆ Stewart,  ┆ 2023-11-0 ┆ 990791.48 ┆ … ┆ 267353.03 ┆ 6120.6519 ┆ 240423.16 ┆ -30199.3 │\n",
              "│ e772-4f71 ┆ Wong and  ┆ 2         ┆ 1009      ┆   ┆ 0053      ┆ 95        ┆ 4469      ┆ 02371    │\n",
              "│ -9400-f5d ┆ Lowery    ┆           ┆           ┆   ┆           ┆           ┆           ┆          │\n",
              "│ 14c1d…    ┆           ┆           ┆           ┆   ┆           ┆           ┆           ┆          │\n",
              "│ f1e28cce- ┆ Holmes    ┆ 2023-11-0 ┆ 1.1741e6  ┆ … ┆ 82300.382 ┆ 26774.587 ┆ 62263.747 ┆ -44008.9 │\n",
              "│ f0bb-4873 ┆ Group     ┆ 1         ┆           ┆   ┆ 571       ┆ 544       ┆ 391       ┆ 4991     │\n",
              "│ -ade7-9ed ┆           ┆           ┆           ┆   ┆           ┆           ┆           ┆          │\n",
              "│ dc449…    ┆           ┆           ┆           ┆   ┆           ┆           ┆           ┆          │\n",
              "│ 200fef36- ┆ Burch-Ben ┆ 2023-11-0 ┆ 2.5748e6  ┆ … ┆ 22921.472 ┆ 68567.351 ┆ 21823.697 ┆ -77472.5 │\n",
              "│ f64b-431e ┆ ton       ┆ 1         ┆           ┆   ┆ 843       ┆ 139       ┆ 495       ┆ 51186    │\n",
              "│ -a68a-fdc ┆           ┆           ┆           ┆   ┆           ┆           ┆           ┆          │\n",
              "│ dc1d3…    ┆           ┆           ┆           ┆   ┆           ┆           ┆           ┆          │\n",
              "│ …         ┆ …         ┆ …         ┆ …         ┆ … ┆ …         ┆ …         ┆ …         ┆ …        │\n",
              "│ 26065266- ┆ Crosby-Kr ┆ 2023-11-0 ┆ 1.1027e6  ┆ … ┆ 39287.686 ┆ 7524.4640 ┆ 42372.217 ┆ -31187.9 │\n",
              "│ 3ce2-4e9f ┆ amer      ┆ 2         ┆           ┆   ┆ 511       ┆ 65        ┆ 923       ┆ 51233    │\n",
              "│ -8220-29d ┆           ┆           ┆           ┆   ┆           ┆           ┆           ┆          │\n",
              "│ e19b8…    ┆           ┆           ┆           ┆   ┆           ┆           ┆           ┆          │\n",
              "│ f6e2417a- ┆ Brown Inc ┆ 2023-11-0 ┆ 169732.16 ┆ … ┆ 15660.403 ┆ 2622.7089 ┆ 17979.046 ┆ -488.218 │\n",
              "│ cd96-40ee ┆           ┆ 3         ┆ 9105      ┆   ┆ 153       ┆ 76        ┆ 121       ┆ 714      │\n",
              "│ -9dff-207 ┆           ┆           ┆           ┆   ┆           ┆           ┆           ┆          │\n",
              "│ b6fa8…    ┆           ┆           ┆           ┆   ┆           ┆           ┆           ┆          │\n",
              "│ 6bdb9247- ┆ Valencia, ┆ 2023-11-0 ┆ 293954.37 ┆ … ┆ 143113.15 ┆ 13405.643 ┆ 146227.86 ┆ 26137.63 │\n",
              "│ 445f-4172 ┆ Rogers    ┆ 3         ┆ 7061      ┆   ┆ 2612      ┆ 01        ┆ 4906      ┆ 9123     │\n",
              "│ -895b-3a5 ┆ and       ┆           ┆           ┆   ┆           ┆           ┆           ┆          │\n",
              "│ 8962e…    ┆ Clements  ┆           ┆           ┆   ┆           ┆           ┆           ┆          │\n",
              "│ 21411c19- ┆ Harris-Te ┆ 2023-11-0 ┆ 5.2011e6  ┆ … ┆ 15081.319 ┆ 14170.554 ┆ 15003.701 ┆ -17517.9 │\n",
              "│ bce4-44e4 ┆ rry       ┆ 3         ┆           ┆   ┆ 461       ┆ 027       ┆ 316       ┆ 66173    │\n",
              "│ -9679-c1b ┆           ┆           ┆           ┆   ┆           ┆           ┆           ┆          │\n",
              "│ 7d253…    ┆           ┆           ┆           ┆   ┆           ┆           ┆           ┆          │\n",
              "└───────────┴───────────┴───────────┴───────────┴───┴───────────┴───────────┴───────────┴──────────┘"
            ],
            "text/html": [
              "<div><style>\n",
              ".dataframe > thead > tr > th,\n",
              ".dataframe > tbody > tr > td {\n",
              "  text-align: right;\n",
              "  white-space: pre-wrap;\n",
              "}\n",
              "</style>\n",
              "<small>shape: (14, 12)</small><table border=\"1\" class=\"dataframe\"><thead><tr><th>company_id</th><th>company_name</th><th>filing_date</th><th>total_assets</th><th>total_liabilities</th><th>total_equity</th><th>revenue</th><th>cost_of_goods_sold</th><th>operating_expenses</th><th>interest_expense</th><th>tax_expense</th><th>net_income</th></tr><tr><td>str</td><td>str</td><td>date</td><td>f64</td><td>f64</td><td>f64</td><td>f64</td><td>f64</td><td>f64</td><td>f64</td><td>f64</td><td>f64</td></tr></thead><tbody><tr><td>&quot;d88742db-6e76-…</td><td>&quot;Nguyen, Landry…</td><td>2023-11-02</td><td>332605.781684</td><td>72553.173849</td><td>260052.607835</td><td>96919.823861</td><td>66729.787868</td><td>19255.788092</td><td>4148.016195</td><td>18569.156819</td><td>-11782.925113</td></tr><tr><td>&quot;9ed4258d-e772-…</td><td>&quot;Stewart, Wong …</td><td>2023-11-02</td><td>990791.481009</td><td>158695.415865</td><td>832096.065144</td><td>1.1467e6</td><td>663050.028155</td><td>267353.030053</td><td>6120.651995</td><td>240423.164469</td><td>-30199.302371</td></tr><tr><td>&quot;f1e28cce-f0bb-…</td><td>&quot;Holmes Group&quot;</td><td>2023-11-01</td><td>1.1741e6</td><td>644150.034361</td><td>529905.455928</td><td>359244.73598</td><td>231914.968384</td><td>82300.382571</td><td>26774.587544</td><td>62263.747391</td><td>-44008.94991</td></tr><tr><td>&quot;200fef36-f64b-…</td><td>&quot;Burch-Benton&quot;</td><td>2023-11-01</td><td>2.5748e6</td><td>1.4096e6</td><td>1.1652e6</td><td>123778.093125</td><td>87938.122834</td><td>22921.472843</td><td>68567.351139</td><td>21823.697495</td><td>-77472.551186</td></tr><tr><td>&quot;84832fde-6dcd-…</td><td>&quot;Robinson-Sande…</td><td>2023-11-02</td><td>1.7352e6</td><td>298287.589749</td><td>1.4370e6</td><td>129888.208849</td><td>64603.17185</td><td>20039.345387</td><td>15013.88646</td><td>24206.73796</td><td>6025.067192</td></tr><tr><td>&quot;49293330-89f1-…</td><td>&quot;Burns-Hall&quot;</td><td>2023-11-02</td><td>205482.917016</td><td>195208.771166</td><td>10274.145851</td><td>104466.680579</td><td>49828.894728</td><td>18788.446987</td><td>6033.176287</td><td>20931.960731</td><td>8884.201847</td></tr><tr><td>&quot;5440c602-fb02-…</td><td>&quot;Berg, Morales …</td><td>2023-11-02</td><td>765443.07134</td><td>403640.836908</td><td>361802.234432</td><td>735405.542581</td><td>571273.348171</td><td>118855.020516</td><td>16533.454208</td><td>150258.973444</td><td>-121515.253757</td></tr><tr><td>&quot;71391fab-6386-…</td><td>&quot;Rogers, Goodma…</td><td>2023-11-03</td><td>19063.79901</td><td>18110.609059</td><td>953.18995</td><td>260219.674448</td><td>134614.191848</td><td>49038.882034</td><td>1085.502234</td><td>61557.688258</td><td>13923.410075</td></tr><tr><td>&quot;2a9125f4-b797-…</td><td>&quot;Huber Ltd&quot;</td><td>2023-11-02</td><td>279712.471091</td><td>265726.847537</td><td>13985.623555</td><td>127300.578707</td><td>80758.006332</td><td>29225.797056</td><td>15694.001385</td><td>27212.472823</td><td>-25589.698889</td></tr><tr><td>&quot;d5b31593-01ec-…</td><td>&quot;Morgan and Son…</td><td>2023-11-01</td><td>110673.514812</td><td>67112.377077</td><td>43561.137735</td><td>72253.669919</td><td>56448.881472</td><td>14341.4239</td><td>2988.499461</td><td>14524.901497</td><td>-16050.036412</td></tr><tr><td>&quot;26065266-3ce2-…</td><td>&quot;Crosby-Kramer&quot;</td><td>2023-11-02</td><td>1.1027e6</td><td>162665.369924</td><td>939994.029139</td><td>204589.135106</td><td>146592.717841</td><td>39287.686511</td><td>7524.464065</td><td>42372.217923</td><td>-31187.951233</td></tr><tr><td>&quot;f6e2417a-cd96-…</td><td>&quot;Brown Inc&quot;</td><td>2023-11-03</td><td>169732.169105</td><td>36066.605542</td><td>133665.563563</td><td>88461.325749</td><td>52687.386213</td><td>15660.403153</td><td>2622.708976</td><td>17979.046121</td><td>-488.218714</td></tr><tr><td>&quot;6bdb9247-445f-…</td><td>&quot;Valencia, Roge…</td><td>2023-11-03</td><td>293954.377061</td><td>279256.658208</td><td>14697.718853</td><td>621336.278923</td><td>292451.979273</td><td>143113.152612</td><td>13405.64301</td><td>146227.864906</td><td>26137.639123</td></tr><tr><td>&quot;21411c19-bce4-…</td><td>&quot;Harris-Terry&quot;</td><td>2023-11-03</td><td>5.2011e6</td><td>399022.612628</td><td>4.8021e6</td><td>70671.884586</td><td>43934.275954</td><td>15081.319461</td><td>14170.554027</td><td>15003.701316</td><td>-17517.966173</td></tr></tbody></table></div>"
            ]
          },
          "metadata": {},
          "execution_count": 5
        }
      ]
    },
    {
      "cell_type": "code",
      "source": [
        "df.filter(\n",
        "    pl.col(\"filing_date\").dt.year() < 2021\n",
        ")"
      ],
      "metadata": {
        "colab": {
          "base_uri": "https://localhost:8080/",
          "height": 98
        },
        "id": "wMuttTDQeesE",
        "outputId": "b18d3dca-0ab2-4129-851d-99a3f73e4c4d"
      },
      "execution_count": 6,
      "outputs": [
        {
          "output_type": "execute_result",
          "data": {
            "text/plain": [
              "shape: (0, 12)\n",
              "┌───────────┬───────────┬───────────┬───────────┬───┬───────────┬───────────┬───────────┬──────────┐\n",
              "│ company_i ┆ company_n ┆ filing_da ┆ total_ass ┆ … ┆ operating ┆ interest_ ┆ tax_expen ┆ net_inco │\n",
              "│ d         ┆ ame       ┆ te        ┆ ets       ┆   ┆ _expenses ┆ expense   ┆ se        ┆ me       │\n",
              "│ ---       ┆ ---       ┆ ---       ┆ ---       ┆   ┆ ---       ┆ ---       ┆ ---       ┆ ---      │\n",
              "│ str       ┆ str       ┆ date      ┆ f64       ┆   ┆ f64       ┆ f64       ┆ f64       ┆ f64      │\n",
              "╞═══════════╪═══════════╪═══════════╪═══════════╪═══╪═══════════╪═══════════╪═══════════╪══════════╡\n",
              "└───────────┴───────────┴───────────┴───────────┴───┴───────────┴───────────┴───────────┴──────────┘"
            ],
            "text/html": [
              "<div><style>\n",
              ".dataframe > thead > tr > th,\n",
              ".dataframe > tbody > tr > td {\n",
              "  text-align: right;\n",
              "  white-space: pre-wrap;\n",
              "}\n",
              "</style>\n",
              "<small>shape: (0, 12)</small><table border=\"1\" class=\"dataframe\"><thead><tr><th>company_id</th><th>company_name</th><th>filing_date</th><th>total_assets</th><th>total_liabilities</th><th>total_equity</th><th>revenue</th><th>cost_of_goods_sold</th><th>operating_expenses</th><th>interest_expense</th><th>tax_expense</th><th>net_income</th></tr><tr><td>str</td><td>str</td><td>date</td><td>f64</td><td>f64</td><td>f64</td><td>f64</td><td>f64</td><td>f64</td><td>f64</td><td>f64</td><td>f64</td></tr></thead><tbody></tbody></table></div>"
            ]
          },
          "metadata": {},
          "execution_count": 6
        }
      ]
    },
    {
      "cell_type": "code",
      "source": [
        "(\n",
        "    df.with_columns([\n",
        "        pl.col(\"filing_date\").n_unique().over(\"company_id\").alias('filing_date_count'),\n",
        "        pl.col(\"filing_date\").dt.quarter().alias(\"filing_date\")\n",
        "    ])\n",
        "    .filter(\n",
        "        pl.col(\"total_assets\") > 5e6\n",
        "    )\n",
        "    .melt(\n",
        "        id_vars=\"filing_date\",\n",
        "        value_vars=[\"total_assets\", \"total_liabilities\"]\n",
        "    )\n",
        "    .group_by(\"variable\")\n",
        "    .agg(\n",
        "        pl.col(\"value\").median()\n",
        "    )\n",
        ")"
      ],
      "metadata": {
        "colab": {
          "base_uri": "https://localhost:8080/",
          "height": 161
        },
        "id": "dAOt7jvie9_r",
        "outputId": "efa3a137-68c0-4a29-9bc5-915dfc4d0ee7"
      },
      "execution_count": 8,
      "outputs": [
        {
          "output_type": "execute_result",
          "data": {
            "text/plain": [
              "shape: (2, 2)\n",
              "┌───────────────────┬───────────────┐\n",
              "│ variable          ┆ value         │\n",
              "│ ---               ┆ ---           │\n",
              "│ str               ┆ f64           │\n",
              "╞═══════════════════╪═══════════════╡\n",
              "│ total_assets      ┆ 5.8362e6      │\n",
              "│ total_liabilities ┆ 226576.470411 │\n",
              "└───────────────────┴───────────────┘"
            ],
            "text/html": [
              "<div><style>\n",
              ".dataframe > thead > tr > th,\n",
              ".dataframe > tbody > tr > td {\n",
              "  text-align: right;\n",
              "  white-space: pre-wrap;\n",
              "}\n",
              "</style>\n",
              "<small>shape: (2, 2)</small><table border=\"1\" class=\"dataframe\"><thead><tr><th>variable</th><th>value</th></tr><tr><td>str</td><td>f64</td></tr></thead><tbody><tr><td>&quot;total_assets&quot;</td><td>5.8362e6</td></tr><tr><td>&quot;total_liabilit…</td><td>226576.470411</td></tr></tbody></table></div>"
            ]
          },
          "metadata": {},
          "execution_count": 8
        }
      ]
    },
    {
      "cell_type": "code",
      "source": [
        "df = pl.DataFrame(\n",
        "    {\n",
        "        \"nrs\": [1, 2, 3, None, 5],\n",
        "        \"names\": [\"foo\", \"ham\", \"spam\", \"egg\", None],\n",
        "        \"random\": np.random.rand(5),\n",
        "        \"groups\": [\"A\", \"A\", \"B\", \"C\", \"B\"],\n",
        "    }\n",
        ")\n",
        "print(df)"
      ],
      "metadata": {
        "colab": {
          "base_uri": "https://localhost:8080/"
        },
        "id": "lCbg8a7ZfuRD",
        "outputId": "6d895127-f624-4f3f-baff-2c01d89ea963"
      },
      "execution_count": 9,
      "outputs": [
        {
          "output_type": "stream",
          "name": "stdout",
          "text": [
            "shape: (5, 4)\n",
            "┌──────┬───────┬──────────┬────────┐\n",
            "│ nrs  ┆ names ┆ random   ┆ groups │\n",
            "│ ---  ┆ ---   ┆ ---      ┆ ---    │\n",
            "│ i64  ┆ str   ┆ f64      ┆ str    │\n",
            "╞══════╪═══════╪══════════╪════════╡\n",
            "│ 1    ┆ foo   ┆ 0.137719 ┆ A      │\n",
            "│ 2    ┆ ham   ┆ 0.263739 ┆ A      │\n",
            "│ 3    ┆ spam  ┆ 0.371153 ┆ B      │\n",
            "│ null ┆ egg   ┆ 0.009119 ┆ C      │\n",
            "│ 5    ┆ null  ┆ 0.736574 ┆ B      │\n",
            "└──────┴───────┴──────────┴────────┘\n"
          ]
        }
      ]
    },
    {
      "cell_type": "code",
      "source": [
        "df_numerical = df.select(\n",
        "    (pl.col(\"nrs\") + 5).alias(\"nrs + 5\"),\n",
        "    (pl.col(\"nrs\") - 5).alias(\"nrs - 5\"),\n",
        "    (pl.col(\"nrs\") * pl.col(\"random\")).alias(\"nrs * random\"),\n",
        "    (pl.col(\"nrs\") / pl.col(\"random\")).alias(\"nrs / random\"),\n",
        ")\n",
        "print(df_numerical)"
      ],
      "metadata": {
        "colab": {
          "base_uri": "https://localhost:8080/"
        },
        "id": "Rs1GO5Ich8Wk",
        "outputId": "f156aa5e-f284-4cb7-8fe5-05d7d8ecb614"
      },
      "execution_count": 10,
      "outputs": [
        {
          "output_type": "stream",
          "name": "stdout",
          "text": [
            "shape: (5, 4)\n",
            "┌─────────┬─────────┬──────────────┬──────────────┐\n",
            "│ nrs + 5 ┆ nrs - 5 ┆ nrs * random ┆ nrs / random │\n",
            "│ ---     ┆ ---     ┆ ---          ┆ ---          │\n",
            "│ i64     ┆ i64     ┆ f64          ┆ f64          │\n",
            "╞═════════╪═════════╪══════════════╪══════════════╡\n",
            "│ 6       ┆ -4      ┆ 0.137719     ┆ 7.261162     │\n",
            "│ 7       ┆ -3      ┆ 0.527478     ┆ 7.583258     │\n",
            "│ 8       ┆ -2      ┆ 1.113459     ┆ 8.082918     │\n",
            "│ null    ┆ null    ┆ null         ┆ null         │\n",
            "│ 10      ┆ 0       ┆ 3.68287      ┆ 6.788183     │\n",
            "└─────────┴─────────┴──────────────┴──────────────┘\n"
          ]
        }
      ]
    },
    {
      "cell_type": "code",
      "source": [
        "df_logical = df.select(\n",
        "    (pl.col(\"nrs\") > 1).alias(\"nrs > 1\"),\n",
        "    (pl.col(\"random\") <= 0.5).alias(\"random <= .5\"),\n",
        "    (pl.col(\"nrs\") != 1).alias(\"nrs != 1\"),\n",
        "    (pl.col(\"nrs\") == 1).alias(\"nrs == 1\"),\n",
        "    ((pl.col(\"random\") <= 0.5) & (pl.col(\"nrs\") > 1)).alias(\"and_expr\"),  # and\n",
        "    ((pl.col(\"random\") <= 0.5) | (pl.col(\"nrs\") > 1)).alias(\"or_expr\"),  # or\n",
        ")\n",
        "print(df_logical)"
      ],
      "metadata": {
        "colab": {
          "base_uri": "https://localhost:8080/"
        },
        "id": "BPZaQT56h9_x",
        "outputId": "4f16152c-0361-42c8-c264-955e6772b2bb"
      },
      "execution_count": 11,
      "outputs": [
        {
          "output_type": "stream",
          "name": "stdout",
          "text": [
            "shape: (5, 6)\n",
            "┌─────────┬──────────────┬──────────┬──────────┬──────────┬─────────┐\n",
            "│ nrs > 1 ┆ random <= .5 ┆ nrs != 1 ┆ nrs == 1 ┆ and_expr ┆ or_expr │\n",
            "│ ---     ┆ ---          ┆ ---      ┆ ---      ┆ ---      ┆ ---     │\n",
            "│ bool    ┆ bool         ┆ bool     ┆ bool     ┆ bool     ┆ bool    │\n",
            "╞═════════╪══════════════╪══════════╪══════════╪══════════╪═════════╡\n",
            "│ false   ┆ true         ┆ false    ┆ true     ┆ false    ┆ true    │\n",
            "│ true    ┆ true         ┆ true     ┆ false    ┆ true     ┆ true    │\n",
            "│ true    ┆ true         ┆ true     ┆ false    ┆ true     ┆ true    │\n",
            "│ null    ┆ true         ┆ null     ┆ null     ┆ null     ┆ true    │\n",
            "│ true    ┆ false        ┆ true     ┆ false    ┆ false    ┆ true    │\n",
            "└─────────┴──────────────┴──────────┴──────────┴──────────┴─────────┘\n"
          ]
        }
      ]
    },
    {
      "cell_type": "code",
      "source": [
        "df.select(\n",
        "    pl.col(\"nrs\").sort().head(2),\n",
        "    pl.col(\"random\").filter(pl.col(\"random\") < 1).sum()\n",
        ")"
      ],
      "metadata": {
        "colab": {
          "base_uri": "https://localhost:8080/",
          "height": 161
        },
        "id": "ySuKmoVPiA4H",
        "outputId": "659921d3-105b-4ed2-e84a-affed82b606d"
      },
      "execution_count": 12,
      "outputs": [
        {
          "output_type": "execute_result",
          "data": {
            "text/plain": [
              "shape: (2, 2)\n",
              "┌──────┬──────────┐\n",
              "│ nrs  ┆ random   │\n",
              "│ ---  ┆ ---      │\n",
              "│ i64  ┆ f64      │\n",
              "╞══════╪══════════╡\n",
              "│ null ┆ 1.518304 │\n",
              "│ 1    ┆ 1.518304 │\n",
              "└──────┴──────────┘"
            ],
            "text/html": [
              "<div><style>\n",
              ".dataframe > thead > tr > th,\n",
              ".dataframe > tbody > tr > td {\n",
              "  text-align: right;\n",
              "  white-space: pre-wrap;\n",
              "}\n",
              "</style>\n",
              "<small>shape: (2, 2)</small><table border=\"1\" class=\"dataframe\"><thead><tr><th>nrs</th><th>random</th></tr><tr><td>i64</td><td>f64</td></tr></thead><tbody><tr><td>null</td><td>1.518304</td></tr><tr><td>1</td><td>1.518304</td></tr></tbody></table></div>"
            ]
          },
          "metadata": {},
          "execution_count": 12
        }
      ]
    },
    {
      "cell_type": "code",
      "source": [
        "from polars.testing.parametric import dataframes\n",
        "from polars import NUMERIC_DTYPES\n",
        "from hypothesis import given\n",
        "\n",
        "@given(\n",
        "    dataframes(\n",
        "        cols=5,\n",
        "        allowed_dtypes=NUMERIC_DTYPES,\n",
        "        null_probability=0.1\n",
        "    )\n",
        ")\n",
        "def test_numeric(df):\n",
        "    assert all(df[col].is_numeric() for col in df.columns)"
      ],
      "metadata": {
        "id": "K9wUs7qliREF"
      },
      "execution_count": 22,
      "outputs": []
    },
    {
      "cell_type": "code",
      "source": [
        "from polars.testing.parametric import column, dataframes\n",
        "from hypothesis.strategies import floats, sampled_from, text\n",
        "from hypothesis import given\n",
        "\n",
        "from string import ascii_letters, digits\n",
        "\n",
        "id_chars = ascii_letters + digits\n",
        "\n",
        "\n",
        "@given(\n",
        "    dataframes(\n",
        "        cols=[\n",
        "            column(\"id\", strategy=text(min_size=4, max_size=4, alphabet=id_chars)),\n",
        "            column(\"ccy\", strategy=sampled_from([\"GBP\", \"EUR\", \"JPY\", \"USD\"])),\n",
        "            column(\"price\", strategy=floats(min_value=0.0, max_value=1000.0)),\n",
        "        ],\n",
        "        min_size=5,\n",
        "        lazy=True,\n",
        "    )\n",
        ")\n",
        "def test_price_calculations(lf):\n",
        "    assert len(lf.collect()['id']) == 4\n",
        "    # print(lf.collect())"
      ],
      "metadata": {
        "id": "6UYKak2njBvO"
      },
      "execution_count": 31,
      "outputs": []
    },
    {
      "cell_type": "code",
      "source": [
        "from polars.testing.parametric import create_list_strategy, dataframes, column\n",
        "from hypothesis.strategies import composite\n",
        "from hypothesis import given\n",
        "\n",
        "\n",
        "@composite\n",
        "def uint8_pairs(draw, uints=create_list_strategy(pl.UInt8, size=2)):\n",
        "    pairs = list(zip(draw(uints), draw(uints)))\n",
        "    return [sorted(ints) for ints in pairs]\n",
        "\n",
        "\n",
        "@given(\n",
        "    dataframes(\n",
        "        cols=[\n",
        "            column(\"colx\", strategy=uint8_pairs()),\n",
        "            column(\"coly\", strategy=uint8_pairs()),\n",
        "            column(\"colz\", strategy=uint8_pairs()),\n",
        "        ],\n",
        "        size=3,\n",
        "    )\n",
        ")\n",
        "\n",
        "def test_miscellaneous(df):\n"
      ],
      "metadata": {
        "colab": {
          "base_uri": "https://localhost:8080/",
          "height": 140
        },
        "id": "e5g2bk2-jsnd",
        "outputId": "e523980e-e85e-4251-dbcb-945a6c6322ff"
      },
      "execution_count": 24,
      "outputs": [
        {
          "output_type": "error",
          "ename": "SyntaxError",
          "evalue": "ignored",
          "traceback": [
            "\u001b[0;36m  File \u001b[0;32m\"<ipython-input-24-84b1a5285baa>\"\u001b[0;36m, line \u001b[0;32m23\u001b[0m\n\u001b[0;31m    # def test_miscellaneous(df):\u001b[0m\n\u001b[0m                                 ^\u001b[0m\n\u001b[0;31mSyntaxError\u001b[0m\u001b[0;31m:\u001b[0m incomplete input\n"
          ]
        }
      ]
    },
    {
      "cell_type": "code",
      "source": [],
      "metadata": {
        "id": "uU0EO09ijvuR"
      },
      "execution_count": null,
      "outputs": []
    }
  ]
}